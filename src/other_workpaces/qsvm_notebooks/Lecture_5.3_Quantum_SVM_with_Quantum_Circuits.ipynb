{
  "nbformat": 4,
  "nbformat_minor": 0,
  "metadata": {
    "colab": {
      "name": "QSVM_QC.ipynb",
      "provenance": [],
      "toc_visible": true
    },
    "kernelspec": {
      "name": "python3",
      "display_name": "Python 3"
    },
    "language_info": {
      "name": "python"
    }
  },
  "cells": [
    {
      "cell_type": "markdown",
      "metadata": {
        "id": "pEQJn0n43o0f"
      },
      "source": [
        "# Quantum SVM with Quantum Circuits"
      ]
    },
    {
      "cell_type": "markdown",
      "metadata": {
        "id": "4N9NbGAovNIj"
      },
      "source": [
        "In this tutorial, a quantum version of the Support Vector Machine (SVM) algorithm based on a Quantum Circuit (QC) is presented."
      ]
    },
    {
      "cell_type": "markdown",
      "metadata": {
        "id": "BkEnSwL-uA5h"
      },
      "source": [
        "## Initial Steps"
      ]
    },
    {
      "cell_type": "markdown",
      "metadata": {
        "id": "K0HabD-wuC1x"
      },
      "source": [
        "### Library Installation"
      ]
    },
    {
      "cell_type": "code",
      "metadata": {
        "id": "Wu_0Yh6k3ld8"
      },
      "source": [
        "try:\n",
        "  import google.colab\n",
        "  IN_COLAB = True\n",
        "except:\n",
        "  IN_COLAB = False\n",
        "\n",
        "if IN_COLAB:\n",
        "  !pip install qiskit"
      ],
      "execution_count": null,
      "outputs": []
    },
    {
      "cell_type": "markdown",
      "metadata": {
        "id": "WrGtyZCruIdj"
      },
      "source": [
        "### Account Configuration"
      ]
    },
    {
      "cell_type": "code",
      "metadata": {
        "id": "IQEc19u14aEO"
      },
      "source": [
        "import qiskit\n",
        "token = 'TOKEN'\n",
        "qiskit.IBMQ.save_account(token)\n",
        "account = qiskit.IBMQ.load_account()\n",
        "provider = qiskit.IBMQ.get_provider(hub='ibm-q')\n",
        "backend = provider.get_backend('ibmq_qasm_simulator')\n",
        "print(provider, backend)"
      ],
      "execution_count": null,
      "outputs": []
    },
    {
      "cell_type": "markdown",
      "metadata": {
        "id": "nYFfbPtE41Lg"
      },
      "source": [
        "### Library Imports"
      ]
    },
    {
      "cell_type": "code",
      "metadata": {
        "id": "wUSmdPku4023"
      },
      "source": [
        "import numpy as np\n",
        "import glob\n",
        "import matplotlib.pyplot as plt\n",
        "from matplotlib import colors\n",
        "from functools import reduce\n",
        "from sklearn import preprocessing\n",
        "from sklearn.svm import SVC\n",
        "\n",
        "from sklearn.metrics import accuracy_score\n",
        "from sklearn.metrics import f1_score\n",
        "\n",
        "from qiskit import BasicAer, IBMQ\n",
        "from qiskit.circuit.library import ZZFeatureMap, PauliFeatureMap\n",
        "from qiskit.aqua import QuantumInstance, aqua_globals\n",
        "from qiskit.aqua.algorithms import QSVM\n",
        "from qiskit.aqua.utils import split_dataset_to_data_and_labels, map_label_to_class_name"
      ],
      "execution_count": null,
      "outputs": []
    },
    {
      "cell_type": "markdown",
      "metadata": {
        "id": "V9NtNhXNtjn1"
      },
      "source": [
        "## Quantum SVM Algorithm"
      ]
    },
    {
      "cell_type": "markdown",
      "metadata": {
        "id": "okHOrl4nL9V7"
      },
      "source": [
        "The presented quantum implementation of the SVM algorithm based on quantum circuits is already available in Qiskit (QSVM). The reference paper is _V. Havlicek et al., “Supervised Learning with Quantum-Enhanced Feature Spaces_.\n",
        "\n",
        "A quantum feature map $\\mathcal{U}_{\\Phi(\\mathbf{x})}$ is constructed, i.e., a variational circuit that encodes a vector $\\mathbf{x}$ into the quantum state $|\\Phi(\\mathbf{x})\\rangle$. The quantum feature map is applied to an initial state $|{0}^D\\rangle$, with $D$ number of qubits, equal to the dimension of the samples. "
      ]
    },
    {
      "cell_type": "markdown",
      "metadata": {
        "id": "xffq9E8ntrBv"
      },
      "source": [
        "### Dataset and Parameter Definition"
      ]
    },
    {
      "cell_type": "markdown",
      "metadata": {
        "id": "w8X0sLB7bbcf"
      },
      "source": [
        "A simple 2-dimensional dataset is considered."
      ]
    },
    {
      "cell_type": "code",
      "metadata": {
        "id": "UoIiuR5Ytih2"
      },
      "source": [
        "X_train = np.array([\n",
        "       [ 0.0401,  0.1415],\n",
        "       [-0.1211, -0.0228],\n",
        "       [-0.1688,  0.2911],\n",
        "       [ 0.2293,  0.7856],\n",
        "       [-1.0831, -0.1049],\n",
        "       [ 0.1626, -1.0458],\n",
        "       [ 0.311 , -0.1032],\n",
        "       [-0.9376, -0.2677],\n",
        "       [ 0.7176, -0.7998],\n",
        "       [-0.0197,  0.3323],\n",
        "       [-0.1306,  0.1053],\n",
        "       [ 0.0811, -0.1263],\n",
        "       [ 0.3391,  0.1625],\n",
        "       [ 0.6602,  0.0843],\n",
        "       [-0.1588,  0.1835],\n",
        "       [-0.3887,  0.2282],\n",
        "       [ 0.2555,  0.0709],\n",
        "       [ 0.1717, -0.9481],\n",
        "       [-0.0288, -0.1503],\n",
        "       [-0.7354,  0.5788]])\n",
        "Y_train = np.array(\n",
        "      [ 1.,  1.,  1., -1., -1., -1.,  1., -1., -1.,  1.,  1.,  1.,  1.,\n",
        "       -1.,  1.,  1.,  1., -1.,  1., -1.])\n",
        "X_test = np.array([\n",
        "       [-0.6483, -1.2539],\n",
        "       [ 0.1448,  1.0718],\n",
        "       [ 0.803 , -0.7706],\n",
        "       [-0.1384, -0.9474],\n",
        "       [-0.0025,  0.0779],\n",
        "       [-0.686 ,  0.9516],\n",
        "       [ 0.1013, -0.5189],\n",
        "       [ 0.8678,  0.0948],\n",
        "       [-0.0021, -0.082 ],\n",
        "       [-1.0192, -0.3854],\n",
        "       [ 0.1661, -0.1268],\n",
        "       [ 0.2193,  0.0973],\n",
        "       [-0.1468,  1.0086],\n",
        "       [-0.0195,  0.503 ],\n",
        "       [ 0.0475,  0.3345],\n",
        "       [ 0.7212, -0.1479],\n",
        "       [-0.5998,  0.5036],\n",
        "       [-0.1889, -0.0499],\n",
        "       [ 0.9087,  0.525 ],\n",
        "       [ 0.5112, -0.4113]]\n",
        ")\n",
        "Y_test = np.array(\n",
        "      [-1., -1., -1., -1.,  1., -1., 1., -1.,  1., -1.,  1.,  1., -1.,  1.,  1.,\n",
        "       -1., -1.,  1., -1., -1.]\n",
        ")\n",
        "\n",
        "plt.figure(0)\n",
        "plt.title('Training set')\n",
        "plt.xlim(-2, 2)\n",
        "plt.ylim(-2, 2)\n",
        "plot = plt.scatter(X_train[:, 0], X_train[:, 1], c=Y_train, s=50, cmap='autumn')"
      ],
      "execution_count": null,
      "outputs": []
    },
    {
      "cell_type": "code",
      "metadata": {
        "id": "JwOX7bqrpU-S"
      },
      "source": [
        "feature_dim = np.size(X_train[0])\n",
        "\n",
        "Y_train_01 = np.where(Y_train==-1, 0, Y_train)\n",
        "Y_test_01 = np.where(Y_test==-1, 0, Y_test)\n",
        "X_train_0_indices = [i for i, y in enumerate(Y_train_01) if y == 0]\n",
        "X_train_1_indices = [i for i, y in enumerate(Y_train_01) if y == 1]\n",
        "X_test_0_indices = [i for i, y in enumerate(Y_test_01) if y == 0]\n",
        "X_test_1_indices = [i for i, y in enumerate(Y_test_01) if y == 1]\n",
        "training_input = {'0': X_train[X_train_0_indices], '1': X_train[X_train_1_indices]}\n",
        "test_input = {'0': X_test[X_test_0_indices], '1': X_test[X_test_1_indices]}\n",
        "datapoints = [X_test,Y_test_01]"
      ],
      "execution_count": 34,
      "outputs": []
    },
    {
      "cell_type": "markdown",
      "metadata": {
        "id": "eJrfP5Zou0Db"
      },
      "source": [
        "### Circuit Definition"
      ]
    },
    {
      "cell_type": "code",
      "metadata": {
        "id": "Me-gQRUouw05"
      },
      "source": [
        "def linear_feature_map(x: np.ndarray) -> float:\n",
        "    coeff = x[0] if len(x) == 1 else reduce(lambda m, n: m*n, x)\n",
        "    return coeff\n",
        "feature_map = ZZFeatureMap(feature_dimension=feature_dim, reps=2, data_map_func=linear_feature_map, entanglement='linear')\n",
        "print(feature_map)"
      ],
      "execution_count": null,
      "outputs": []
    },
    {
      "cell_type": "markdown",
      "metadata": {
        "id": "Hj790gbeu2QP"
      },
      "source": [
        "### Problem Submission"
      ]
    },
    {
      "cell_type": "code",
      "metadata": {
        "id": "N2HneYAWu8a9"
      },
      "source": [
        "seed = 1000\n",
        "qsvm = QSVM(feature_map, training_input, test_input, datapoints[0])\n",
        "backend = provider.get_backend('ibmq_qasm_simulator')\n",
        "quantum_instance = QuantumInstance(backend, shots=1024, seed_simulator=seed, seed_transpiler=seed)\n",
        "result = qsvm.run(quantum_instance)"
      ],
      "execution_count": 29,
      "outputs": []
    },
    {
      "cell_type": "code",
      "metadata": {
        "id": "A-udphKb88NQ"
      },
      "source": [
        "print(f'Testing success ratio: {result[\"testing_accuracy\"]}')\n",
        "print('Prediction from datapoints set:')\n",
        "print(f'  True classes:        {map_label_to_class_name(datapoints[1], qsvm.label_to_class)}')\n",
        "print(f'  Predicted classes:   {result[\"predicted_classes\"]}')\n",
        "predicted_labels = result[\"predicted_labels\"]\n",
        "print(f'  success rate: {100*np.count_nonzero(predicted_labels == datapoints[1])/len(predicted_labels)}%')\n",
        "print(f'  F1 score: {f1_score(datapoints[1], result[\"predicted_labels\"])}')\n",
        "print(f'  Accuracy: {accuracy_score(datapoints[1], result[\"predicted_labels\"])}')"
      ],
      "execution_count": null,
      "outputs": []
    }
  ]
}