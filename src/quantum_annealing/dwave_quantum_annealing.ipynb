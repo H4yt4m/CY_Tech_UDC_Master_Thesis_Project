{
 "cells": [
  {
   "cell_type": "markdown",
   "metadata": {},
   "source": [
    "#### Batches"
   ]
  },
  {
   "cell_type": "code",
   "execution_count": 2,
   "metadata": {},
   "outputs": [],
   "source": [
    "import pandas as pd\n",
    "import numpy as np\n",
    "\n",
    "probabilities = np.loadtxt(\"probabilities.txt\", dtype=float, delimiter=\" \")\n",
    "\n",
    "\n",
    "original_array = probabilities.reshape(145, 145, 2)\n",
    "batch_dimensions = (47, 47, 2)\n",
    "top_left_pixel_i, top_left_pixel_j = 0, 0\n",
    "batches = []\n",
    "indexes = []\n",
    "\n",
    "\n",
    "for top_left_pixel_i in range(original_array.shape[0] // (batch_dimensions[0] - 2) + 1):\n",
    "    for top_left_pixel_j in range(\n",
    "        original_array.shape[1] // (batch_dimensions[1] - 2) + 1\n",
    "    ):\n",
    "        if (\n",
    "            top_left_pixel_i * (batch_dimensions[0] - 2) + batch_dimensions[0]\n",
    "            > original_array.shape[0]\n",
    "        ):\n",
    "            if (\n",
    "                top_left_pixel_j * (batch_dimensions[1] - 2) + batch_dimensions[1]\n",
    "                > original_array.shape[1]\n",
    "            ):\n",
    "                batch_start_i = original_array.shape[0] - batch_dimensions[0]\n",
    "                batch_end_i = original_array.shape[0]\n",
    "                batch_start_j = original_array.shape[1] - batch_dimensions[1]\n",
    "                batch_end_j = original_array.shape[1]\n",
    "            else:\n",
    "                batch_start_i = original_array.shape[0] - batch_dimensions[0]\n",
    "                batch_end_i = original_array.shape[0]\n",
    "                batch_start_j = top_left_pixel_j * (batch_dimensions[1] - 2)\n",
    "                batch_end_j = (\n",
    "                    top_left_pixel_j * (batch_dimensions[1] - 2) + batch_dimensions[1]\n",
    "                )\n",
    "\n",
    "        elif (\n",
    "            top_left_pixel_j * (batch_dimensions[1] - 2) + batch_dimensions[1]\n",
    "            > original_array.shape[1]\n",
    "        ):\n",
    "            batch_start_i = top_left_pixel_i * (batch_dimensions[0] - 2)\n",
    "            batch_end_i = (\n",
    "                top_left_pixel_i * (batch_dimensions[0] - 2) + batch_dimensions[0]\n",
    "            )\n",
    "            batch_start_j = original_array.shape[1] - batch_dimensions[1]\n",
    "            batch_end_j = original_array.shape[1]\n",
    "        else:\n",
    "            batch_start_i = top_left_pixel_i * (batch_dimensions[0] - 2)\n",
    "            batch_end_i = (\n",
    "                top_left_pixel_i * (batch_dimensions[0] - 2) + batch_dimensions[0]\n",
    "            )\n",
    "            batch_start_j = top_left_pixel_j * (batch_dimensions[1] - 2)\n",
    "            batch_end_j = (\n",
    "                top_left_pixel_j * (batch_dimensions[1] - 2) + batch_dimensions[1]\n",
    "            )\n",
    "\n",
    "        indexes.append([(batch_start_i, batch_end_i), (batch_start_j, batch_end_j)])\n",
    "        batches.append(\n",
    "            original_array[batch_start_i:batch_end_i, batch_start_j:batch_end_j, :]\n",
    "        )"
   ]
  },
  {
   "cell_type": "markdown",
   "metadata": {},
   "source": [
    "#### Option 1 : Redo the computation"
   ]
  },
  {
   "cell_type": "code",
   "execution_count": null,
   "metadata": {},
   "outputs": [],
   "source": [
    "import sys\n",
    "import os\n",
    "import argparse\n",
    "import json\n",
    "import copy\n",
    "import time\n",
    "import matplotlib.animation as animation\n",
    "\n",
    "from construct_ising import *\n",
    "from embed_my_implementation import *\n",
    "from embed_piotr_implementation import *\n",
    "\n",
    "from dwave.samplers import SimulatedAnnealingSampler\n",
    "from dwave.system import (\n",
    "    FixedEmbeddingComposite,\n",
    "    EmbeddingComposite,\n",
    "    AutoEmbeddingComposite,\n",
    "    DWaveSampler,\n",
    ")\n",
    "\n",
    "\n",
    "import dimod\n",
    "from dwave.embedding.chimera import find_grid_embedding\n",
    "\n",
    "\n",
    "\"\"\"\n",
    "Main program\n",
    "\"\"\"\n",
    "\n",
    "lattice_size = 47  # 47 works\n",
    "beta = 0.5\n",
    "list_samplesets = []\n",
    "\n",
    "for i in range(len(batches)):\n",
    "    probabilities = batches[i].reshape(-1, 2)\n",
    "\n",
    "    external_field, neighbors_coupling = hamiltonian(lattice_size, beta, probabilities)\n",
    "\n",
    "    sampler_param = {\n",
    "        \"beta_range\": [],\n",
    "        \"num_reads\": 100,\n",
    "        \"num_sweeps\": [],\n",
    "        \"num_sweeps_per_beta\": [],\n",
    "        \"beta_schedule_type\": [\"beta_schedule_options\"],\n",
    "        \"seed\": [],\n",
    "        \"interrupt_function\": [],\n",
    "        \"initial_states\": [],\n",
    "        \"initial_states_generator\": [],\n",
    "    }\n",
    "\n",
    "    sampler = EmbeddingComposite(\n",
    "        DWaveSampler(solver={\"topology__type\": \"pegasus\"}, region=\"eu-central-1\")\n",
    "    )\n",
    "    sampleset = sampler.sample_ising(\n",
    "        external_field, neighbors_coupling, num_reads=sampler_param[\"num_reads\"]\n",
    "    )\n",
    "\n",
    "    list_samplesets.append(sampleset)\n",
    "\n",
    "    break"
   ]
  },
  {
   "cell_type": "markdown",
   "metadata": {},
   "source": [
    "#### Option 2 : Use last exported results"
   ]
  },
  {
   "cell_type": "code",
   "execution_count": 4,
   "metadata": {},
   "outputs": [],
   "source": [
    "import pickle\n",
    "\n",
    "with open(\"list_samplesets_new\", \"rb\") as fp:  # Unpickling\n",
    "    list_samplesets = pickle.load(fp)"
   ]
  },
  {
   "cell_type": "markdown",
   "metadata": {},
   "source": [
    "#### Construct final segmentation"
   ]
  },
  {
   "cell_type": "code",
   "execution_count": 3,
   "metadata": {},
   "outputs": [],
   "source": [
    "result_samples = []\n",
    "result_energy = []\n",
    "for sampleset in list_samplesets:\n",
    "    result_samples.append(np.array(list(sampleset.first.sample.values())))\n",
    "    result_energy.append(sampleset.first.energy)"
   ]
  },
  {
   "cell_type": "code",
   "execution_count": 4,
   "metadata": {},
   "outputs": [],
   "source": [
    "final_np_array = np.zeros([original_array.shape[0], original_array.shape[1]])\n",
    "for i in range(len(result_samples)):\n",
    "    # 0- Initialisations for current batch\n",
    "    i_range, j_range = indexes[i]\n",
    "    batch = result_samples[i].reshape(47, 47)\n",
    "\n",
    "    # 1- Neutralise unwanted values\n",
    "    if i_range[0] != 0:\n",
    "        batch[i_range[0] : i_range[0] + 1, :] = 0\n",
    "    if i_range[1] != original_array.shape[1]:\n",
    "        batch[i_range[1] - 1 : i_range[1], :] = 0\n",
    "    if j_range[0] != 0:\n",
    "        batch[:, j_range[0] : j_range[0] + 1] = 0\n",
    "    if j_range[1] != original_array.shape[1]:\n",
    "        batch[:, j_range[1] - 1 : j_range[1]] = 0\n",
    "\n",
    "    # 2- Add batch to final np array\n",
    "    final_np_array[i_range[0] : i_range[1], j_range[0] : j_range[1]] += batch"
   ]
  },
  {
   "cell_type": "code",
   "execution_count": 6,
   "metadata": {},
   "outputs": [
    {
     "data": {
      "image/png": "[encoded data removed]",
      "text/plain": [
       "<Figure size 1000x800 with 2 Axes>"
      ]
     },
     "metadata": {},
     "output_type": "display_data"
    }
   ],
   "source": [
    "import matplotlib.pyplot as plt\n",
    "\n",
    "\n",
    "def plot_image(y, fig_name):\n",
    "    \"\"\"\n",
    "    Plot the segmented image\n",
    "    \"\"\"\n",
    "\n",
    "    plt.figure(figsize=(10, 8))\n",
    "    plt.imshow(y, cmap=\"Greys\")\n",
    "    plt.colorbar()\n",
    "    plt.axis(\"off\")\n",
    "    plt.savefig(fig_name)\n",
    "    plt.show()\n",
    "\n",
    "\n",
    "clmap = final_np_array.astype(\"float\")\n",
    "plot_image(clmap, \"dwave_quantum_annealing_segmentation.png\")\n",
    "\n",
    "# print(\"Energy :{}\".format(result_energy))"
   ]
  }
 ],
 "metadata": {
  "kernelspec": {
   "display_name": "Python 3 (ipykernel)",
   "language": "python",
   "name": "python3"
  },
  "orig_nbformat": 4
 },
 "nbformat": 4,
 "nbformat_minor": 2
}
